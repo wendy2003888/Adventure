{
 "cells": [
  {
   "cell_type": "code",
   "execution_count": 1,
   "metadata": {},
   "outputs": [],
   "source": [
    "import tensorflow as tf\n",
    "import apache_beam as beam"
   ]
  },
  {
   "cell_type": "code",
   "execution_count": 2,
   "metadata": {},
   "outputs": [],
   "source": [
    "live_model = tf.keras.models.load_model('/Users/xxx/kagglepipe/titanic/pipeline/Trainer/model/6/serving_model_dir/')"
   ]
  },
  {
   "cell_type": "code",
   "execution_count": 4,
   "metadata": {},
   "outputs": [
    {
     "name": "stderr",
     "output_type": "stream",
     "text": [
      "WARNING:root:Deleting 1 existing files in target path matching: -*-of-%(num_shards)05d\n"
     ]
    }
   ],
   "source": [
    "with beam.Pipeline() as pipeline:\n",
    "      test_data = pipeline | 'ReadFromTFRecord' >> beam.io.ReadFromTFRecord(file_pattern='/Users/xxx/kagglepipe/titanic/data/test/test.tfrecord')\n",
    "      (test_data | 'ParseToExample' >> beam.Map(tf.train.Example.FromString)\n",
    "      | 'Prediction' >> beam.Map(lambda x: {'id': x.features.feature['PassengerId'].int64_list.value[0], 'prediction': live_model.signatures[\"serving_default\"](examples=tf.constant([x.SerializeToString()]))})\n",
    "      | 'TensorToNumpy' >> beam.Map(lambda x: (x['id'], x['prediction']['output_0'].numpy()[0][0]))\n",
    "      | 'FormatToStr' >> beam.Map(lambda x: '%s,%s' % (x[0], '1' if x[1] > 0.5  else '0'))\n",
    "      | beam.io.WriteToText('/Users/xxx/kagglepipe/titanic/test.csv'))"
   ]
  },
  {
   "cell_type": "code",
   "execution_count": null,
   "metadata": {},
   "outputs": [],
   "source": []
  }
 ],
 "metadata": {
  "kernelspec": {
   "display_name": "Python 3",
   "language": "python",
   "name": "python3"
  },
  "language_info": {
   "codemirror_mode": {
    "name": "ipython",
    "version": 3
   },
   "file_extension": ".py",
   "mimetype": "text/x-python",
   "name": "python",
   "nbconvert_exporter": "python",
   "pygments_lexer": "ipython3",
   "version": "3.6.8"
  }
 },
 "nbformat": 4,
 "nbformat_minor": 4
}
